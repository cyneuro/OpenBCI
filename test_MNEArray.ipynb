{
 "cells": [
  {
   "cell_type": "markdown",
   "metadata": {},
   "source": [
    "## Creating arrays from txt data\n",
    "#### MNE can't use txt data, so will have to convert into 3D arrays\n",
    "#### [Tutorial](https://mne.tools/stable/auto_tutorials/simulation/10_array_objs.html)"
   ]
  },
  {
   "cell_type": "code",
   "execution_count": 2,
   "metadata": {},
   "outputs": [],
   "source": [
    "import numpy as np \n",
    "import mne"
   ]
  },
  {
   "cell_type": "code",
   "execution_count": null,
   "metadata": {},
   "outputs": [
    {
     "name": "stdout",
     "output_type": "stream",
     "text": [
      "[[   0.         -128.08970353  -66.78713341  -63.57829925  -71.96689485]\n",
      " [   1.         -128.16076163  -53.72366286  -46.06808765  -48.21105033]\n",
      " [   1.         -130.06811061  -60.26848779  -42.90787219  -57.50096182]\n",
      " [   2.         -132.31579048  -69.58831848  -32.15939972  -51.07955359]\n",
      " [   2.         -128.93118102  -59.2774143   -26.50841089  -41.9953366 ]]\n",
      "2\n"
     ]
    }
   ],
   "source": [
    "data = np.loadtxt('data/focus_test.txt', delimiter=',', skiprows=5, usecols=(0,1,2,3,4), max_rows=5) #5 rows for testing, MNE requires arrays in form of (n_channels, n_samples)\n",
    "print(data)\n",
    "print(data.ndim) #should be 2 for MNE\n",
    "#need to use the overall structure to prepackage the data in the right way\n",
    "#might want to use BIDS format for built in pipeline"
   ]
  }
 ],
 "metadata": {
  "kernelspec": {
   "display_name": "Python 3",
   "language": "python",
   "name": "python3"
  },
  "language_info": {
   "codemirror_mode": {
    "name": "ipython",
    "version": 3
   },
   "file_extension": ".py",
   "mimetype": "text/x-python",
   "name": "python",
   "nbconvert_exporter": "python",
   "pygments_lexer": "ipython3",
   "version": "3.12.7"
  }
 },
 "nbformat": 4,
 "nbformat_minor": 2
}
